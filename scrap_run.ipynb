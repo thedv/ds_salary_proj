{
 "cells": [
  {
   "cell_type": "code",
   "execution_count": 26,
   "id": "5f6d3aa7",
   "metadata": {},
   "outputs": [],
   "source": [
    "import pandas as pd\n",
    "import numpy as np\n",
    "from scraper import get_jobs"
   ]
  },
  {
   "cell_type": "code",
   "execution_count": null,
   "id": "04f9b129",
   "metadata": {},
   "outputs": [],
   "source": [
    "path = \"E:\\Projects\\ds_salary_proj\\chromedriver\"\n",
    "df = get_jobs('data scientist',899, False, path, 5)\n",
    "df.to_csv('E:/Projects/ds_salary_proj/glass.csv', encoding='utf-8')"
   ]
  },
  {
   "cell_type": "code",
   "execution_count": null,
   "id": "c3380b13",
   "metadata": {},
   "outputs": [],
   "source": []
  }
 ],
 "metadata": {
  "kernelspec": {
   "display_name": "Python 3 (ipykernel)",
   "language": "python",
   "name": "python3"
  },
  "language_info": {
   "codemirror_mode": {
    "name": "ipython",
    "version": 3
   },
   "file_extension": ".py",
   "mimetype": "text/x-python",
   "name": "python",
   "nbconvert_exporter": "python",
   "pygments_lexer": "ipython3",
   "version": "3.11.5"
  }
 },
 "nbformat": 4,
 "nbformat_minor": 5
}
