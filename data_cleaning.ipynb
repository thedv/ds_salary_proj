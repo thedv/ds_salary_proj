{
 "cells": [
  {
   "cell_type": "code",
   "execution_count": 1,
   "id": "6ba4580e",
   "metadata": {},
   "outputs": [],
   "source": [
    "import pandas as pd\n",
    "pd.set_option('display.max_rows', None)  # Set to None for all rows\n",
    "\n",
    "df = pd.read_csv('glassdoor_salary.csv')\n",
    "\n"
   ]
  },
  {
   "cell_type": "code",
   "execution_count": 2,
   "id": "a0cd2404",
   "metadata": {},
   "outputs": [],
   "source": [
    "df.fillna(-1)\n",
    "df['Founded'] = df['Founded'].replace( '--',-1).astype(int)\n",
    "\n"
   ]
  },
  {
   "cell_type": "code",
   "execution_count": 3,
   "id": "aec0c262",
   "metadata": {},
   "outputs": [],
   "source": [
    "df = df[~df.eq('-1').any(axis=1)]"
   ]
  },
  {
   "cell_type": "code",
   "execution_count": 4,
   "id": "37a8706c",
   "metadata": {},
   "outputs": [],
   "source": [
    "salary = df['Salary Estimate'].apply(lambda x : x.split('(')[0])\n",
    "df['hourly']  = df['Salary Estimate'].apply(lambda x: 1 if 'per hour' in x.lower() else  0)\n",
    "df['employer provided']  = df['Salary Estimate'].apply(lambda x: 1 if 'employer provided salary' in x.lower() else  0)"
   ]
  },
  {
   "cell_type": "code",
   "execution_count": null,
   "id": "ba13a6e0",
   "metadata": {},
   "outputs": [],
   "source": []
  },
  {
   "cell_type": "code",
   "execution_count": 5,
   "id": "ef9821ab",
   "metadata": {},
   "outputs": [],
   "source": [
    "minus_kd = salary.apply(lambda x : x.replace('K', '').replace('$', ''))\n",
    "min_hr = minus_kd.apply(lambda x: x.lower().replace('per hour', '').replace('usd', ''))\n",
    "min_hr = min_hr[min_hr.str.contains('-')]"
   ]
  },
  {
   "cell_type": "code",
   "execution_count": 6,
   "id": "9ef49378",
   "metadata": {},
   "outputs": [],
   "source": [
    "df['min_salary'] = min_hr.apply(lambda x : x.split('-')[0])\n",
    "df['max_salary'] = min_hr.apply(lambda x:x.split('-')[1])\n",
    "df = df.dropna(subset = ['max_salary', 'min_salary'])"
   ]
  },
  {
   "cell_type": "code",
   "execution_count": 7,
   "id": "35cf862c",
   "metadata": {},
   "outputs": [],
   "source": [
    "df['max_salary'] = df['max_salary'].str.strip()  # Remove leading/trailing spaces\n",
    "df['max_salary'] = pd.to_numeric(df['max_salary'], errors='coerce')  # Convert to numeric (replace NaN with a placeholder)\n",
    "df['min_salary'] = df['min_salary'].str.strip()  # Remove leading/trailing spaces\n",
    "df['min_salary'] = pd.to_numeric(df['min_salary'], errors='coerce')  # Convert to numeric (replace NaN with a placeholder)\n",
    "df['min_salary'] = df['min_salary'].fillna(-1).astype(int)  # Fill NaN with -1 and convert to int\n",
    "df['max_salary'].astype(int)\n",
    "df['min_salary'].astype(int)\n",
    "df['avg_salary'] = (df.min_salary + df.max_salary)/2\n",
    "df = df[df['Location'].str.contains(',')]"
   ]
  },
  {
   "cell_type": "code",
   "execution_count": 8,
   "id": "dff497ed",
   "metadata": {},
   "outputs": [],
   "source": [
    "df['job_state'] = df['Location'].apply( lambda x : x.split(',')[1])\n",
    "df['city'] = df['Location'].apply(lambda x : x.split(',')[0])"
   ]
  },
  {
   "cell_type": "code",
   "execution_count": 9,
   "id": "9e45f4cd",
   "metadata": {},
   "outputs": [],
   "source": [
    "\n",
    "df['age'] = df.Founded.apply(lambda x : x if x < 1 else 2024-x)"
   ]
  },
  {
   "cell_type": "code",
   "execution_count": 14,
   "id": "c778e8c1",
   "metadata": {},
   "outputs": [],
   "source": [
    "df = df[~df.eq(-1).any(axis=1)]"
   ]
  },
  {
   "cell_type": "code",
   "execution_count": 18,
   "id": "128f5d4a",
   "metadata": {
    "scrolled": true
   },
   "outputs": [
    {
     "data": {
      "text/html": [
       "<div>\n",
       "<style scoped>\n",
       "    .dataframe tbody tr th:only-of-type {\n",
       "        vertical-align: middle;\n",
       "    }\n",
       "\n",
       "    .dataframe tbody tr th {\n",
       "        vertical-align: top;\n",
       "    }\n",
       "\n",
       "    .dataframe thead th {\n",
       "        text-align: right;\n",
       "    }\n",
       "</style>\n",
       "<table border=\"1\" class=\"dataframe\">\n",
       "  <thead>\n",
       "    <tr style=\"text-align: right;\">\n",
       "      <th></th>\n",
       "      <th>Unnamed: 0</th>\n",
       "      <th>Job Title</th>\n",
       "      <th>Salary Estimate</th>\n",
       "      <th>Job Description</th>\n",
       "      <th>Rating</th>\n",
       "      <th>Company Name</th>\n",
       "      <th>Location</th>\n",
       "      <th>Size</th>\n",
       "      <th>Founded</th>\n",
       "      <th>Type of ownership</th>\n",
       "      <th>...</th>\n",
       "      <th>Sector</th>\n",
       "      <th>Revenue</th>\n",
       "      <th>hourly</th>\n",
       "      <th>employer provided</th>\n",
       "      <th>min_salary</th>\n",
       "      <th>max_salary</th>\n",
       "      <th>avg_salary</th>\n",
       "      <th>job_state</th>\n",
       "      <th>city</th>\n",
       "      <th>age</th>\n",
       "    </tr>\n",
       "  </thead>\n",
       "  <tbody>\n",
       "    <tr>\n",
       "      <th>0</th>\n",
       "      <td>0</td>\n",
       "      <td>Manager, Model Validation</td>\n",
       "      <td>USD 76K - 126K (Glassdoor est.)</td>\n",
       "      <td>5 years of experience in statistical modeling,...</td>\n",
       "      <td>4.1</td>\n",
       "      <td>Sallie Mae</td>\n",
       "      <td>Newark, DE</td>\n",
       "      <td>1001 to 5000 Employees</td>\n",
       "      <td>1973</td>\n",
       "      <td>Company - Public</td>\n",
       "      <td>...</td>\n",
       "      <td>Financial Services</td>\n",
       "      <td>$1 to $5 billion (USD)</td>\n",
       "      <td>0</td>\n",
       "      <td>0</td>\n",
       "      <td>76</td>\n",
       "      <td>126.0</td>\n",
       "      <td>101.0</td>\n",
       "      <td>DE</td>\n",
       "      <td>Newark</td>\n",
       "      <td>51</td>\n",
       "    </tr>\n",
       "    <tr>\n",
       "      <th>2</th>\n",
       "      <td>2</td>\n",
       "      <td>Sr. Finance &amp; Data Analyst</td>\n",
       "      <td>USD 71K - 101K (Glassdoor est.)</td>\n",
       "      <td>PACE is an alternative to nursing home care an...</td>\n",
       "      <td>3.4</td>\n",
       "      <td>Senior Care Partners PACE</td>\n",
       "      <td>Battle Creek, MI</td>\n",
       "      <td>201 to 500 Employees</td>\n",
       "      <td>2008</td>\n",
       "      <td>Nonprofit Organization</td>\n",
       "      <td>...</td>\n",
       "      <td>Healthcare</td>\n",
       "      <td>$5 to $25 million (USD)</td>\n",
       "      <td>0</td>\n",
       "      <td>0</td>\n",
       "      <td>71</td>\n",
       "      <td>101.0</td>\n",
       "      <td>86.0</td>\n",
       "      <td>MI</td>\n",
       "      <td>Battle Creek</td>\n",
       "      <td>16</td>\n",
       "    </tr>\n",
       "    <tr>\n",
       "      <th>4</th>\n",
       "      <td>4</td>\n",
       "      <td>Principal Data Scientist</td>\n",
       "      <td>USD 122K - 221K (Employer est.)</td>\n",
       "      <td>The analyst must be able to develop Python and...</td>\n",
       "      <td>3.8</td>\n",
       "      <td>Leidos</td>\n",
       "      <td>Huntsville, AL</td>\n",
       "      <td>10000+ Employees</td>\n",
       "      <td>1969</td>\n",
       "      <td>Company - Public</td>\n",
       "      <td>...</td>\n",
       "      <td>Aerospace &amp; Defense</td>\n",
       "      <td>$10+ billion (USD)</td>\n",
       "      <td>0</td>\n",
       "      <td>0</td>\n",
       "      <td>122</td>\n",
       "      <td>221.0</td>\n",
       "      <td>171.5</td>\n",
       "      <td>AL</td>\n",
       "      <td>Huntsville</td>\n",
       "      <td>55</td>\n",
       "    </tr>\n",
       "    <tr>\n",
       "      <th>5</th>\n",
       "      <td>5</td>\n",
       "      <td>Data Scientist</td>\n",
       "      <td>USD 78K - 115K (Glassdoor est.)</td>\n",
       "      <td>And conduct what-if scenario analysis, for fie...</td>\n",
       "      <td>3.5</td>\n",
       "      <td>Penske Truck Leasing and Logistics</td>\n",
       "      <td>Reading, PA</td>\n",
       "      <td>10000+ Employees</td>\n",
       "      <td>1969</td>\n",
       "      <td>Company - Private</td>\n",
       "      <td>...</td>\n",
       "      <td>Transportation &amp; Logistics</td>\n",
       "      <td>$5 to $10 billion (USD)</td>\n",
       "      <td>0</td>\n",
       "      <td>0</td>\n",
       "      <td>78</td>\n",
       "      <td>115.0</td>\n",
       "      <td>96.5</td>\n",
       "      <td>PA</td>\n",
       "      <td>Reading</td>\n",
       "      <td>55</td>\n",
       "    </tr>\n",
       "    <tr>\n",
       "      <th>25</th>\n",
       "      <td>25</td>\n",
       "      <td>Senior Data Scientist</td>\n",
       "      <td>USD 96K - 130K (Glassdoor est.)</td>\n",
       "      <td>Perform technical risk analysis and reliabilit...</td>\n",
       "      <td>4.0</td>\n",
       "      <td>Deloitte</td>\n",
       "      <td>Mechanicsburg, PA</td>\n",
       "      <td>10000+ Employees</td>\n",
       "      <td>1850</td>\n",
       "      <td>Company - Private</td>\n",
       "      <td>...</td>\n",
       "      <td>Management &amp; Consulting</td>\n",
       "      <td>$10+ billion (USD)</td>\n",
       "      <td>0</td>\n",
       "      <td>0</td>\n",
       "      <td>96</td>\n",
       "      <td>130.0</td>\n",
       "      <td>113.0</td>\n",
       "      <td>PA</td>\n",
       "      <td>Mechanicsburg</td>\n",
       "      <td>174</td>\n",
       "    </tr>\n",
       "  </tbody>\n",
       "</table>\n",
       "<p>5 rows × 21 columns</p>\n",
       "</div>"
      ],
      "text/plain": [
       "    Unnamed: 0                   Job Title                  Salary Estimate  \\\n",
       "0            0   Manager, Model Validation  USD 76K - 126K (Glassdoor est.)   \n",
       "2            2  Sr. Finance & Data Analyst  USD 71K - 101K (Glassdoor est.)   \n",
       "4            4    Principal Data Scientist  USD 122K - 221K (Employer est.)   \n",
       "5            5              Data Scientist  USD 78K - 115K (Glassdoor est.)   \n",
       "25          25       Senior Data Scientist  USD 96K - 130K (Glassdoor est.)   \n",
       "\n",
       "                                      Job Description  Rating  \\\n",
       "0   5 years of experience in statistical modeling,...     4.1   \n",
       "2   PACE is an alternative to nursing home care an...     3.4   \n",
       "4   The analyst must be able to develop Python and...     3.8   \n",
       "5   And conduct what-if scenario analysis, for fie...     3.5   \n",
       "25  Perform technical risk analysis and reliabilit...     4.0   \n",
       "\n",
       "                          Company Name           Location  \\\n",
       "0                           Sallie Mae         Newark, DE   \n",
       "2            Senior Care Partners PACE   Battle Creek, MI   \n",
       "4                               Leidos     Huntsville, AL   \n",
       "5   Penske Truck Leasing and Logistics        Reading, PA   \n",
       "25                            Deloitte  Mechanicsburg, PA   \n",
       "\n",
       "                      Size  Founded       Type of ownership  ...  \\\n",
       "0   1001 to 5000 Employees     1973        Company - Public  ...   \n",
       "2     201 to 500 Employees     2008  Nonprofit Organization  ...   \n",
       "4         10000+ Employees     1969        Company - Public  ...   \n",
       "5         10000+ Employees     1969       Company - Private  ...   \n",
       "25        10000+ Employees     1850       Company - Private  ...   \n",
       "\n",
       "                        Sector                  Revenue hourly  \\\n",
       "0           Financial Services   $1 to $5 billion (USD)      0   \n",
       "2                   Healthcare  $5 to $25 million (USD)      0   \n",
       "4          Aerospace & Defense       $10+ billion (USD)      0   \n",
       "5   Transportation & Logistics  $5 to $10 billion (USD)      0   \n",
       "25     Management & Consulting       $10+ billion (USD)      0   \n",
       "\n",
       "    employer provided  min_salary  max_salary  avg_salary  job_state  \\\n",
       "0                   0          76       126.0       101.0         DE   \n",
       "2                   0          71       101.0        86.0         MI   \n",
       "4                   0         122       221.0       171.5         AL   \n",
       "5                   0          78       115.0        96.5         PA   \n",
       "25                  0          96       130.0       113.0         PA   \n",
       "\n",
       "             city  age  \n",
       "0          Newark   51  \n",
       "2    Battle Creek   16  \n",
       "4      Huntsville   55  \n",
       "5         Reading   55  \n",
       "25  Mechanicsburg  174  \n",
       "\n",
       "[5 rows x 21 columns]"
      ]
     },
     "execution_count": 18,
     "metadata": {},
     "output_type": "execute_result"
    }
   ],
   "source": [
    "df.head()"
   ]
  },
  {
   "cell_type": "code",
   "execution_count": 20,
   "id": "7894b4ef",
   "metadata": {},
   "outputs": [],
   "source": [
    "df['python_yn'] = df['Job Description'].apply(lambda x : 1 if 'python' in x.lower() else 0)\n",
    "df['r_yn'] = df['Job Description'].apply(lambda x : 1 if 'r studio' in x.lower() or 'r-studio' in x.lower() else 0)"
   ]
  },
  {
   "cell_type": "code",
   "execution_count": 22,
   "id": "641e74b0",
   "metadata": {},
   "outputs": [
    {
     "data": {
      "text/plain": [
       "python_yn\n",
       "0    557\n",
       "1     24\n",
       "Name: count, dtype: int64"
      ]
     },
     "execution_count": 22,
     "metadata": {},
     "output_type": "execute_result"
    }
   ],
   "source": [
    "\n",
    "df['python_yn'].value_counts()\n"
   ]
  },
  {
   "cell_type": "code",
   "execution_count": null,
   "id": "42f971df",
   "metadata": {},
   "outputs": [],
   "source": [
    "#Get Job description \n",
    "#Get spark, python, R\n"
   ]
  },
  {
   "cell_type": "code",
   "execution_count": null,
   "id": "49eb90d2",
   "metadata": {},
   "outputs": [],
   "source": []
  },
  {
   "cell_type": "code",
   "execution_count": null,
   "id": "7cbfd1f0",
   "metadata": {},
   "outputs": [],
   "source": []
  }
 ],
 "metadata": {
  "kernelspec": {
   "display_name": "Python 3 (ipykernel)",
   "language": "python",
   "name": "python3"
  },
  "language_info": {
   "codemirror_mode": {
    "name": "ipython",
    "version": 3
   },
   "file_extension": ".py",
   "mimetype": "text/x-python",
   "name": "python",
   "nbconvert_exporter": "python",
   "pygments_lexer": "ipython3",
   "version": "3.11.5"
  }
 },
 "nbformat": 4,
 "nbformat_minor": 5
}
